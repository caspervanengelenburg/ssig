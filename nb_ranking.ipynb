{
 "cells": [
  {
   "cell_type": "markdown",
   "source": [
    "# Ranking RPLAN using a visually-guided graph edit distance\n",
    "\n",
    "This notebooks explains how to use the ranking algorithm. First, we set the path:"
   ],
   "metadata": {
    "collapsed": false
   }
  },
  {
   "cell_type": "code",
   "execution_count": 1,
   "metadata": {
    "collapsed": true,
    "ExecuteTime": {
     "start_time": "2023-11-29T17:12:27.998735Z",
     "end_time": "2023-11-29T17:12:30.481211Z"
    }
   },
   "outputs": [
    {
     "name": "stdout",
     "output_type": "stream",
     "text": [
      "True\n"
     ]
    }
   ],
   "source": [
    "import os\n",
    "from constants import DATA_PATH\n",
    "\n",
    "print(os.path.exists(DATA_PATH))"
   ]
  },
  {
   "cell_type": "markdown",
   "source": [
    "Next, we load the IDs of the RPLAN dataset:"
   ],
   "metadata": {
    "collapsed": false
   }
  },
  {
   "cell_type": "code",
   "execution_count": 3,
   "outputs": [
    {
     "name": "stdout",
     "output_type": "stream",
     "text": [
      "[63586, 57205, 62420, 23273, 8472, 64219, 18367, 21313, 76160, 79936, 45206, 59448, 6462, 72511, 65347, 17697, 78713, 75931, 19738, 7532]\n"
     ]
    }
   ],
   "source": [
    "from utils import gather_ids\n",
    "\n",
    "# gather IDs\n",
    "ids = gather_ids(r'./data/valid_ids.pickle', shuffle=True)  # these are default setting (just to show you)\n",
    "\n",
    "# print first 20 IDs\n",
    "print(ids[:20])"
   ],
   "metadata": {
    "collapsed": false,
    "ExecuteTime": {
     "start_time": "2023-11-29T17:14:15.939130Z",
     "end_time": "2023-11-29T17:14:16.023184Z"
    }
   }
  },
  {
   "cell_type": "markdown",
   "source": [
    "Let's pick a random ID from that list: 57205. And plot it:"
   ],
   "metadata": {
    "collapsed": false
   }
  },
  {
   "cell_type": "code",
   "execution_count": 25,
   "outputs": [
    {
     "data": {
      "text/plain": "<Figure size 500x500 with 1 Axes>",
      "image/png": "[encoded data removed]"
     },
     "metadata": {},
     "output_type": "display_data"
    }
   ],
   "source": [
    "from utils import load_image_rplan, colorize_floorplan\n",
    "from constants import CLASSES, CMAP_ROOMTYPE\n",
    "from plot import set_figure\n",
    "\n",
    "# set up figure\n",
    "fs = 5  # figure size\n",
    "n = 5  # number of columns (same as rows)\n",
    "_, ax = set_figure(nc=1, nr=1, fs=fs, fs_title=4)  # sets the figure\n",
    "\n",
    "id_q = 57205\n",
    "\n",
    "# load and colorize floor plan image\n",
    "img_q = load_image_rplan(id_q, DATA_PATH)\n",
    "img = colorize_floorplan(img_q, CLASSES, CMAP_ROOMTYPE)\n",
    "\n",
    "# plot image\n",
    "ax.imshow(img)\n",
    "ax.set_title(f'Query ID: {id_q}')\n",
    "_ = ax.axis('off')"
   ],
   "metadata": {
    "collapsed": false,
    "ExecuteTime": {
     "start_time": "2023-11-29T17:56:02.952515Z",
     "end_time": "2023-11-29T17:56:03.151135Z"
    }
   }
  },
  {
   "cell_type": "code",
   "execution_count": 29,
   "outputs": [],
   "source": [
    "import numpy as np\n",
    "\n",
    "def compute_iou(img_q, img_k, classes=np.arange(0, 12)):\n",
    "\n",
    "    \"\"\"\n",
    "    Computes the Intersection-over-Union, or Jaccard Distance, between two semantic images.\n",
    "    Inputs: query and key image; should be 2-D numpy arrays of the same shape.\n",
    "    \"\"\"\n",
    "\n",
    "    iou_class = []\n",
    "\n",
    "    # compute iou per class\n",
    "    for cat in classes:\n",
    "\n",
    "        # compute union\n",
    "        union_area = (img_k == cat)\n",
    "\n",
    "        if union_area.sum() == 0:\n",
    "            iou_class.append(np.nan)\n",
    "\n",
    "        else:\n",
    "            union_area += (img_q == cat)\n",
    "            # compute intersection\n",
    "            inter_area = (img_q - img_k) == 0\n",
    "            inter_area = inter_area * union_area\n",
    "\n",
    "            iou_class.append(np.sum(inter_area) / np.sum(union_area))\n",
    "\n",
    "    return np.nanmean(iou_class)\n",
    "\n",
    "\n",
    "# IoU between query image and a list or array of images\n",
    "# def get_ious(img_q, imgs, background=False):\n",
    "#     \"\"\"\n",
    "#     Intersection-over-union between query and stack of key images.\n",
    "#     \"\"\"\n",
    "#\n",
    "#     # Initialize IoU vector\n",
    "#     n = imgs.shape[0]\n",
    "#     ious = np.zeros((n))\n",
    "#\n",
    "#     # Compute IoU across full set of images\n",
    "#     for i in range(n):\n",
    "#         img_k = imgs[i]\n",
    "#         ious[i] = compute_iou(img_q, img_k, background=background)\n",
    "#\n",
    "#     return ious"
   ],
   "metadata": {
    "collapsed": false,
    "ExecuteTime": {
     "start_time": "2023-11-29T18:02:33.990441Z",
     "end_time": "2023-11-29T18:02:34.025680Z"
    }
   }
  },
  {
   "cell_type": "markdown",
   "source": [
    "## MIoU rank\n",
    "\n",
    "We rank the remaining part of the dataset w.r.t. the above-defined floor plan.\n",
    "\n",
    "First, we create a stack of images by loading them all in a list."
   ],
   "metadata": {
    "collapsed": false
   }
  },
  {
   "cell_type": "code",
   "execution_count": 20,
   "outputs": [
    {
     "name": "stdout",
     "output_type": "stream",
     "text": [
      "[0, 1, 2, 4, 5, 7, 9, 10, 12, 15, 16, 18, 20, 21, 22, 23, 24, 26, 30, 33]\n"
     ]
    },
    {
     "name": "stderr",
     "output_type": "stream",
     "text": [
      "C:\\Users\\caspervanengel\\AppData\\Local\\Temp\\ipykernel_11560\\3762389632.py:5: UserWarning: To copy construct from a tensor, it is recommended to use sourceTensor.clone().detach() or sourceTensor.clone().detach().requires_grad_(True), rather than torch.tensor(sourceTensor).\n",
      "  img_q = torch.tensor(img_q)\n"
     ]
    },
    {
     "data": {
      "text/plain": "  0%|          | 0/46063 [00:00<?, ?it/s]",
      "application/vnd.jupyter.widget-view+json": {
       "version_major": 2,
       "version_minor": 0,
       "model_id": "d45be91a1d284a2b8a8497ba0a19cc22"
      }
     },
     "metadata": {},
     "output_type": "display_data"
    }
   ],
   "source": [
    "import torch\n",
    "from tqdm.auto import tqdm\n",
    "\n",
    "# set query image to pytorch tensor\n",
    "img_q = torch.tensor(img_q)\n",
    "\n",
    "# sort ID list\n",
    "ids = sorted(ids)\n",
    "print(ids[:20])\n",
    "\n",
    "# create image list\n",
    "imgs = []\n",
    "for id in tqdm(ids):\n",
    "    imgs.append(load_image_rplan(id, DATA_PATH))"
   ],
   "metadata": {
    "collapsed": false,
    "ExecuteTime": {
     "start_time": "2023-11-29T17:47:34.438066Z",
     "end_time": "2023-11-29T17:49:25.743537Z"
    }
   }
  },
  {
   "cell_type": "code",
   "execution_count": 31,
   "outputs": [
    {
     "data": {
      "text/plain": "  0%|          | 0/46063 [00:00<?, ?it/s]",
      "application/vnd.jupyter.widget-view+json": {
       "version_major": 2,
       "version_minor": 0,
       "model_id": "b22f5e06db5d46b68b9a22eeae14f03a"
      }
     },
     "metadata": {},
     "output_type": "display_data"
    },
    {
     "name": "stdout",
     "output_type": "stream",
     "text": [
      "Time it took to rank on IoU: 85.65868306159973\n"
     ]
    }
   ],
   "source": [
    "import numpy as np\n",
    "import time\n",
    "\n",
    "from metrics import mean_iou\n",
    "\n",
    "# set classes to 12 (do not include background)\n",
    "CLASSES = np.arange(0, 12)\n",
    "\n",
    "# initialie iou list\n",
    "ious = []\n",
    "\n",
    "start = time.time()  # keep time\n",
    "for i, id in tqdm(enumerate(ids), total=len(ids)):\n",
    "\n",
    "    # iou_torch = mean_iou(torch.tensor(img_q), torch.tensor(imgs[i]), classes=CLASSES)\n",
    "    ious.append(compute_iou(img_q, imgs[i], classes=CLASSES))\n",
    "\n",
    "    # compute IoU and append to list\n",
    "    # print(iou_torch, iou_numpy)\n",
    "\n",
    "    # if i == 20: break\n",
    "\n",
    "# print execution time to rank on IoU\n",
    "print(f'Time it took to rank on IoU: {time.time() - start}')"
   ],
   "metadata": {
    "collapsed": false,
    "ExecuteTime": {
     "start_time": "2023-11-29T18:03:03.118014Z",
     "end_time": "2023-11-29T18:04:28.788509Z"
    }
   }
  }
 ],
 "metadata": {
  "kernelspec": {
   "display_name": "Python 3",
   "language": "python",
   "name": "python3"
  },
  "language_info": {
   "codemirror_mode": {
    "name": "ipython",
    "version": 2
   },
   "file_extension": ".py",
   "mimetype": "text/x-python",
   "name": "python",
   "nbconvert_exporter": "python",
   "pygments_lexer": "ipython2",
   "version": "2.7.6"
  }
 },
 "nbformat": 4,
 "nbformat_minor": 0
}
